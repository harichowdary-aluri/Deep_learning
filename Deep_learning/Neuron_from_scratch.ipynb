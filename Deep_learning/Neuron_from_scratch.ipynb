{
 "cells": [
  {
   "cell_type": "markdown",
   "id": "af9c8580-30ed-42e2-ad06-4fbed40acc94",
   "metadata": {},
   "source": [
    "# 1.Activation function , inputs, bias,mat mul"
   ]
  },
  {
   "cell_type": "code",
   "execution_count": 12,
   "id": "50382a04-88d1-4081-af8a-afe49241892d",
   "metadata": {},
   "outputs": [],
   "source": [
    "# sigmoid activaton function\n",
    "import numpy as np\n",
    "def Mysigmoid(x):\n",
    "    return 1/(1+np.exp(-x))"
   ]
  },
  {
   "cell_type": "code",
   "execution_count": 13,
   "id": "b44fd94d-b4b1-4027-bc32-fcf35e087f60",
   "metadata": {},
   "outputs": [
    {
     "data": {
      "text/plain": [
       "0.9987706013787226"
      ]
     },
     "execution_count": 13,
     "metadata": {},
     "output_type": "execute_result"
    }
   ],
   "source": [
    "sigmod(6.7)"
   ]
  },
  {
   "cell_type": "code",
   "execution_count": 20,
   "id": "d1e3a37a-0c5e-4b35-9f75-3ace2431e1a6",
   "metadata": {},
   "outputs": [],
   "source": [
    "class Mynueron:\n",
    "    def __init__ (self,weights,bias):\n",
    "        self.weights=weights\n",
    "        self.bias=bias\n",
    "    def forwardNeuron(self,inputs):\n",
    "        k=np.dot(self.weights,inputs)+self.bias\n",
    "        return(Mysigmoid(k))"
   ]
  },
  {
   "cell_type": "code",
   "execution_count": 21,
   "id": "574e8356-6839-4ff1-b828-26b911c3df48",
   "metadata": {},
   "outputs": [
    {
     "name": "stdout",
     "output_type": "stream",
     "text": [
      "0.9987706013787226\n"
     ]
    }
   ],
   "source": [
    "weights = np.array([0.5,0.8])\n",
    "bias=2\n",
    "n = Mynueron(weights,bias)\n",
    "x=np.array([3,4])\n",
    "print(n.forwardNeuron(x))"
   ]
  }
 ],
 "metadata": {
  "kernelspec": {
   "display_name": "Python 3 (ipykernel)",
   "language": "python",
   "name": "python3"
  },
  "language_info": {
   "codemirror_mode": {
    "name": "ipython",
    "version": 3
   },
   "file_extension": ".py",
   "mimetype": "text/x-python",
   "name": "python",
   "nbconvert_exporter": "python",
   "pygments_lexer": "ipython3",
   "version": "3.11.7"
  }
 },
 "nbformat": 4,
 "nbformat_minor": 5
}
